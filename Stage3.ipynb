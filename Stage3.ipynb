{
 "cells": [
  {
   "cell_type": "code",
   "execution_count": 2,
   "metadata": {
    "id": "GCbNoos3oQhv"
   },
   "outputs": [],
   "source": [
    "import pandas as pd\n",
    "import numpy as np\n",
    "import matplotlib.pyplot as plt\n",
    "import seaborn as sns\n",
    "from sklearn.model_selection import train_test_split, cross_val_score\n",
    "from sklearn.preprocessing import StandardScaler, LabelEncoder\n",
    "from sklearn.metrics import accuracy_score, precision_score, recall_score, roc_auc_score, confusion_matrix, f1_score\n",
    "from sklearn.linear_model import LogisticRegression\n",
    "from sklearn.tree import DecisionTreeClassifier\n",
    "from sklearn.ensemble import RandomForestClassifier\n",
    "from imblearn.over_sampling import SMOTE\n",
    "import tensorflow as tf\n",
    "from tensorflow.keras.models import Sequential\n",
    "from tensorflow.keras.layers import Dense\n",
    "from tensorflow.keras.layers import Dropout\n",
    "\n",
    "def convert_age_to_numeric(age_range):\n",
    "    if '80 or older' in age_range:\n",
    "        return 80\n",
    "    else:\n",
    "        start, end = map(int, age_range.split('-'))\n",
    "        return (start + end) / 2"
   ]
  },
  {
   "cell_type": "code",
   "execution_count": 6,
   "metadata": {
    "id": "UtIxL5iqoQhw"
   },
   "outputs": [],
   "source": [
    "# Load dataset\n",
    "data = pd.read_csv('Heart_Disease.csv')\n",
    "data.drop_duplicates(inplace=True)\n",
    "\n",
    "for col in data.columns:\n",
    "    unico = data[col].unique()\n",
    "    if set(unico) == {'Yes', 'No'}:\n",
    "        data[col] = data[col].map({'Yes': 1, 'No': 0})\n",
    "data['Sex'] = data['Sex'].map({'Female':0, 'Male':1})\n",
    "data['AgeCategory'] = data['AgeCategory'].apply(convert_age_to_numeric).astype(int)\n",
    "data['GenHealth'] = data['GenHealth'].map({'Poor':0, 'Fair':1, 'Good':2, 'Very good':3, 'Excellent':4})\n",
    "data['Diabetic'] = data['Diabetic'].map({'Yes':2, 'No':-1, 'No, borderline diabetes':0, 'Yes (during pregnancy)':1})\n",
    "\n",
    "# Convert categorical data to numerical data\n",
    "labelencoder = LabelEncoder()\n",
    "data['Race'] = labelencoder.fit_transform(data['Race'])\n"
   ]
  },
  {
   "cell_type": "code",
   "execution_count": 7,
   "metadata": {
    "id": "OLQTBQ5ooQhx"
   },
   "outputs": [],
   "source": [
    "# Separate features and target variable\n",
    "X = data.drop('HeartDisease', axis=1)\n",
    "y = data['HeartDisease']"
   ]
  },
  {
   "cell_type": "code",
   "execution_count": 8,
   "metadata": {
    "id": "9iCCkjRnoQhx"
   },
   "outputs": [],
   "source": [
    "# Split data into training and test sets\n",
    "X_train, X_test, y_train, y_test = train_test_split(X, y, test_size=0.2, random_state=42)"
   ]
  },
  {
   "cell_type": "code",
   "execution_count": 10,
   "metadata": {
    "id": "x-dQUtuAoQhy"
   },
   "outputs": [],
   "source": [
    "# Apply SMOTE to the training data to handle class imbalance\n",
    "smote = SMOTE(random_state=42)\n",
    "X_train_resampled, y_train_resampled = smote.fit_resample(X_train, y_train)"
   ]
  },
  {
   "cell_type": "code",
   "execution_count": 11,
   "metadata": {
    "id": "KUoidiksoQhy"
   },
   "outputs": [],
   "source": [
    "# Feature Scaling\n",
    "scaler = StandardScaler()\n",
    "X_train_scaled = scaler.fit_transform(X_train_resampled)\n",
    "X_test_scaled = scaler.transform(X_test)"
   ]
  },
  {
   "cell_type": "markdown",
   "metadata": {
    "id": "HWjgmO_9oQhy"
   },
   "source": [
    "Model Training and Evaluation"
   ]
  },
  {
   "cell_type": "code",
   "execution_count": 13,
   "metadata": {
    "id": "yRaU5lk_pohW"
   },
   "outputs": [],
   "source": [
    "physical_devices = tf.config.list_physical_devices('GPU')\n",
    "if physical_devices:\n",
    "    try:\n",
    "        for device in physical_devices:\n",
    "            tf.config.experimental.set_memory_growth(device, True)\n",
    "    except RuntimeError as e:\n",
    "        print(e)"
   ]
  },
  {
   "cell_type": "code",
   "execution_count": 14,
   "metadata": {
    "colab": {
     "base_uri": "https://localhost:8080/"
    },
    "id": "zRyDhbojoQhz",
    "outputId": "87bb8148-9585-4967-8df0-3eefe363a327"
   },
   "outputs": [
    {
     "name": "stderr",
     "output_type": "stream",
     "text": [
      "/usr/local/lib/python3.10/dist-packages/keras/src/layers/core/dense.py:87: UserWarning: Do not pass an `input_shape`/`input_dim` argument to a layer. When using Sequential models, prefer using an `Input(shape)` object as the first layer in the model instead.\n",
      "  super().__init__(activity_regularizer=activity_regularizer, **kwargs)\n"
     ]
    },
    {
     "name": "stdout",
     "output_type": "stream",
     "text": [
      "Epoch 1/20\n",
      "\u001b[1m3431/3431\u001b[0m \u001b[32m━━━━━━━━━━━━━━━━━━━━\u001b[0m\u001b[37m\u001b[0m \u001b[1m26s\u001b[0m 5ms/step - accuracy: 0.7697 - loss: 0.4872 - val_accuracy: 0.7310 - val_loss: 0.5041\n",
      "Epoch 2/20\n",
      "\u001b[1m3431/3431\u001b[0m \u001b[32m━━━━━━━━━━━━━━━━━━━━\u001b[0m\u001b[37m\u001b[0m \u001b[1m26s\u001b[0m 2ms/step - accuracy: 0.7923 - loss: 0.4554 - val_accuracy: 0.7473 - val_loss: 0.4814\n",
      "Epoch 3/20\n",
      "\u001b[1m3431/3431\u001b[0m \u001b[32m━━━━━━━━━━━━━━━━━━━━\u001b[0m\u001b[37m\u001b[0m \u001b[1m6s\u001b[0m 2ms/step - accuracy: 0.7937 - loss: 0.4506 - val_accuracy: 0.7519 - val_loss: 0.4647\n",
      "Epoch 4/20\n",
      "\u001b[1m3431/3431\u001b[0m \u001b[32m━━━━━━━━━━━━━━━━━━━━\u001b[0m\u001b[37m\u001b[0m \u001b[1m7s\u001b[0m 2ms/step - accuracy: 0.7953 - loss: 0.4477 - val_accuracy: 0.7349 - val_loss: 0.4908\n",
      "Epoch 5/20\n",
      "\u001b[1m3431/3431\u001b[0m \u001b[32m━━━━━━━━━━━━━━━━━━━━\u001b[0m\u001b[37m\u001b[0m \u001b[1m6s\u001b[0m 2ms/step - accuracy: 0.7956 - loss: 0.4467 - val_accuracy: 0.7490 - val_loss: 0.4708\n",
      "Epoch 6/20\n",
      "\u001b[1m3431/3431\u001b[0m \u001b[32m━━━━━━━━━━━━━━━━━━━━\u001b[0m\u001b[37m\u001b[0m \u001b[1m11s\u001b[0m 2ms/step - accuracy: 0.7958 - loss: 0.4462 - val_accuracy: 0.7503 - val_loss: 0.4597\n",
      "Epoch 7/20\n",
      "\u001b[1m3431/3431\u001b[0m \u001b[32m━━━━━━━━━━━━━━━━━━━━\u001b[0m\u001b[37m\u001b[0m \u001b[1m11s\u001b[0m 2ms/step - accuracy: 0.7958 - loss: 0.4453 - val_accuracy: 0.7431 - val_loss: 0.4842\n",
      "Epoch 8/20\n",
      "\u001b[1m3431/3431\u001b[0m \u001b[32m━━━━━━━━━━━━━━━━━━━━\u001b[0m\u001b[37m\u001b[0m \u001b[1m6s\u001b[0m 2ms/step - accuracy: 0.7967 - loss: 0.4436 - val_accuracy: 0.7434 - val_loss: 0.4826\n",
      "Epoch 9/20\n",
      "\u001b[1m3431/3431\u001b[0m \u001b[32m━━━━━━━━━━━━━━━━━━━━\u001b[0m\u001b[37m\u001b[0m \u001b[1m10s\u001b[0m 2ms/step - accuracy: 0.7974 - loss: 0.4435 - val_accuracy: 0.7286 - val_loss: 0.4967\n",
      "Epoch 10/20\n",
      "\u001b[1m3431/3431\u001b[0m \u001b[32m━━━━━━━━━━━━━━━━━━━━\u001b[0m\u001b[37m\u001b[0m \u001b[1m7s\u001b[0m 2ms/step - accuracy: 0.7991 - loss: 0.4409 - val_accuracy: 0.7395 - val_loss: 0.4879\n",
      "Epoch 11/20\n",
      "\u001b[1m3431/3431\u001b[0m \u001b[32m━━━━━━━━━━━━━━━━━━━━\u001b[0m\u001b[37m\u001b[0m \u001b[1m10s\u001b[0m 2ms/step - accuracy: 0.7982 - loss: 0.4410 - val_accuracy: 0.7388 - val_loss: 0.4926\n",
      "Epoch 12/20\n",
      "\u001b[1m3431/3431\u001b[0m \u001b[32m━━━━━━━━━━━━━━━━━━━━\u001b[0m\u001b[37m\u001b[0m \u001b[1m6s\u001b[0m 2ms/step - accuracy: 0.7991 - loss: 0.4402 - val_accuracy: 0.7446 - val_loss: 0.4744\n",
      "Epoch 13/20\n",
      "\u001b[1m3431/3431\u001b[0m \u001b[32m━━━━━━━━━━━━━━━━━━━━\u001b[0m\u001b[37m\u001b[0m \u001b[1m11s\u001b[0m 2ms/step - accuracy: 0.7988 - loss: 0.4410 - val_accuracy: 0.7341 - val_loss: 0.4821\n",
      "Epoch 14/20\n",
      "\u001b[1m3431/3431\u001b[0m \u001b[32m━━━━━━━━━━━━━━━━━━━━\u001b[0m\u001b[37m\u001b[0m \u001b[1m6s\u001b[0m 2ms/step - accuracy: 0.7986 - loss: 0.4407 - val_accuracy: 0.7368 - val_loss: 0.4877\n",
      "Epoch 15/20\n",
      "\u001b[1m3431/3431\u001b[0m \u001b[32m━━━━━━━━━━━━━━━━━━━━\u001b[0m\u001b[37m\u001b[0m \u001b[1m7s\u001b[0m 2ms/step - accuracy: 0.7988 - loss: 0.4405 - val_accuracy: 0.7540 - val_loss: 0.4576\n",
      "Epoch 16/20\n",
      "\u001b[1m3431/3431\u001b[0m \u001b[32m━━━━━━━━━━━━━━━━━━━━\u001b[0m\u001b[37m\u001b[0m \u001b[1m10s\u001b[0m 2ms/step - accuracy: 0.7999 - loss: 0.4387 - val_accuracy: 0.7457 - val_loss: 0.4756\n",
      "Epoch 17/20\n",
      "\u001b[1m3431/3431\u001b[0m \u001b[32m━━━━━━━━━━━━━━━━━━━━\u001b[0m\u001b[37m\u001b[0m \u001b[1m10s\u001b[0m 2ms/step - accuracy: 0.7991 - loss: 0.4403 - val_accuracy: 0.7485 - val_loss: 0.4700\n",
      "Epoch 18/20\n",
      "\u001b[1m3431/3431\u001b[0m \u001b[32m━━━━━━━━━━━━━━━━━━━━\u001b[0m\u001b[37m\u001b[0m \u001b[1m7s\u001b[0m 2ms/step - accuracy: 0.8001 - loss: 0.4375 - val_accuracy: 0.7452 - val_loss: 0.4684\n",
      "Epoch 19/20\n",
      "\u001b[1m3431/3431\u001b[0m \u001b[32m━━━━━━━━━━━━━━━━━━━━\u001b[0m\u001b[37m\u001b[0m \u001b[1m6s\u001b[0m 2ms/step - accuracy: 0.8007 - loss: 0.4365 - val_accuracy: 0.7366 - val_loss: 0.4924\n",
      "Epoch 20/20\n",
      "\u001b[1m3431/3431\u001b[0m \u001b[32m━━━━━━━━━━━━━━━━━━━━\u001b[0m\u001b[37m\u001b[0m \u001b[1m7s\u001b[0m 2ms/step - accuracy: 0.7990 - loss: 0.4403 - val_accuracy: 0.7365 - val_loss: 0.4887\n",
      "\u001b[1m1886/1886\u001b[0m \u001b[32m━━━━━━━━━━━━━━━━━━━━\u001b[0m\u001b[37m\u001b[0m \u001b[1m3s\u001b[0m 1ms/step - accuracy: 0.7378 - loss: 0.4871\n",
      "Accuracy: 73.65%\n",
      "\u001b[1m1886/1886\u001b[0m \u001b[32m━━━━━━━━━━━━━━━━━━━━\u001b[0m\u001b[37m\u001b[0m \u001b[1m2s\u001b[0m 1ms/step\n",
      "Classification Report:\n",
      "              precision    recall  f1-score   support\n",
      "\n",
      "           0       0.95      0.75      0.84     54894\n",
      "           1       0.20      0.65      0.31      5450\n",
      "\n",
      "    accuracy                           0.74     60344\n",
      "   macro avg       0.58      0.70      0.57     60344\n",
      "weighted avg       0.89      0.74      0.79     60344\n",
      "\n"
     ]
    }
   ],
   "source": [
    "# Create the model\n",
    "model = Sequential()\n",
    "\n",
    "# input layer\n",
    "model.add(Dense(64, input_dim=X_train_scaled.shape[1], activation='relu'))\n",
    "\n",
    "# hidden layers\n",
    "model.add(Dense(32, activation='relu'))\n",
    "\n",
    "# hidden layers\n",
    "model.add(Dropout(0.5))\n",
    "\n",
    "# output layer\n",
    "model.add(Dense(1, activation='sigmoid'))  # Sigmoide for binary classification\n",
    "\n",
    "# Compile the model\n",
    "model.compile(optimizer='adam', loss='binary_crossentropy', metrics=['accuracy'])\n",
    "\n",
    "# Train the model\n",
    "history = model.fit(X_train_scaled, y_train_resampled, epochs=20, batch_size=128, validation_data=(X_test_scaled, y_test))\n",
    "\n",
    "# Evaluate the model\n",
    "loss, accuracy = model.evaluate(X_test_scaled, y_test)\n",
    "print(f\"Accuracy: {accuracy*100:.2f}%\")\n",
    "\n",
    "# Plot the training history\n",
    "y_pred = (model.predict(X_test_scaled) > 0.5).astype(int)\n",
    "\n",
    "# Accuracy\n",
    "print(\"Classification Report:\")\n",
    "from sklearn.metrics import classification_report\n",
    "print(classification_report(y_test, y_pred))"
   ]
  },
  {
   "cell_type": "code",
   "execution_count": null,
   "metadata": {
    "colab": {
     "base_uri": "https://localhost:8080/"
    },
    "id": "okvGDM7LoQhz",
    "outputId": "35521620-2011-4838-fa56-561a8cdff08e"
   },
   "outputs": [
    {
     "name": "stdout",
     "output_type": "stream",
     "text": [
      "Confusion Matrix:\n",
      "True Negatives (TN): 40928\n",
      "False Positives (FP): 13966\n",
      "False Negatives (FN): 1934\n",
      "True Positives (TP): 3516\n",
      "\n",
      "Matriz de Confusión Completa:\n",
      "[[40928 13966]\n",
      " [ 1934  3516]]\n"
     ]
    }
   ],
   "source": [
    "from sklearn.metrics import confusion_matrix\n",
    "\n",
    "# Calculate the confusion matrix\n",
    "cm = confusion_matrix(y_test, y_pred)\n",
    "\n",
    "TN, FP, FN, TP = cm.ravel()\n",
    "\n",
    "print(\"Confusion Matrix:\")\n",
    "print(f\"True Negatives (TN): {TN}\")\n",
    "print(f\"False Positives (FP): {FP}\")\n",
    "print(f\"False Negatives (FN): {FN}\")\n",
    "print(f\"True Positives (TP): {TP}\")\n",
    "\n",
    "# confusion matrix\n",
    "print(\"\\nMatriz de Confusión Completa:\")\n",
    "print(cm)"
   ]
  },
  {
   "cell_type": "code",
   "execution_count": 16,
   "metadata": {
    "colab": {
     "base_uri": "https://localhost:8080/"
    },
    "id": "5xQaedKSoQh0",
    "outputId": "9c500055-16b4-4459-c7fe-13f989e9d06f"
   },
   "outputs": [
    {
     "name": "stdout",
     "output_type": "stream",
     "text": [
      "Precision: 0.20\n",
      "Recall: 0.65\n",
      "F1-Score: 0.31\n",
      "AUC-ROC: 0.70\n",
      "Accuracy: 0.74\n"
     ]
    }
   ],
   "source": [
    "# Precision\n",
    "precision = precision_score(y_test, y_pred)\n",
    "print(f\"Precision: {precision:.2f}\")\n",
    "\n",
    "# Recall\n",
    "recall = recall_score(y_test, y_pred)\n",
    "print(f\"Recall: {recall:.2f}\")\n",
    "\n",
    "# F1-Score\n",
    "f1 = f1_score(y_test, y_pred)\n",
    "print(f\"F1-Score: {f1:.2f}\")\n",
    "\n",
    "# AUC-ROC\n",
    "auc_roc = roc_auc_score(y_test, y_pred)\n",
    "print(f\"AUC-ROC: {auc_roc:.2f}\")\n",
    "\n",
    "# Accuracy (again for explicitness)\n",
    "\n",
    "accuracy = accuracy_score(y_test, y_pred)\n",
    "print(f\"Accuracy: {accuracy:.2f}\")"
   ]
  }
 ],
 "metadata": {
  "accelerator": "GPU",
  "colab": {
   "gpuType": "T4",
   "provenance": []
  },
  "kernelspec": {
   "display_name": "Python 3",
   "name": "python3"
  },
  "language_info": {
   "codemirror_mode": {
    "name": "ipython",
    "version": 3
   },
   "file_extension": ".py",
   "mimetype": "text/x-python",
   "name": "python",
   "nbconvert_exporter": "python",
   "pygments_lexer": "ipython3",
   "version": "3.10.15"
  }
 },
 "nbformat": 4,
 "nbformat_minor": 0
}
